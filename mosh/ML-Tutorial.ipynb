{
 "cells": [
  {
   "cell_type": "code",
   "execution_count": 6,
   "id": "f6ef7a88",
   "metadata": {
    "scrolled": true
   },
   "outputs": [
    {
     "name": "stderr",
     "output_type": "stream",
     "text": [
      "/home/daniel/anaconda3/lib/python3.9/site-packages/sklearn/base.py:450: UserWarning: X does not have valid feature names, but DecisionTreeClassifier was fitted with feature names\n",
      "  warnings.warn(\n"
     ]
    },
    {
     "data": {
      "text/plain": [
       "array(['Dance', 'HipHop'], dtype=object)"
      ]
     },
     "execution_count": 6,
     "metadata": {},
     "output_type": "execute_result"
    }
   ],
   "source": [
    "import pandas as pd\n",
    "from sklearn.tree import DecisionTreeClassifier\n",
    "from sklearn.model_selection import train_test_split\n",
    "from sklearn.metrics import accuracy_score\n",
    "from sklearn import tree\n",
    "import joblib\n",
    "\n",
    "music_data = pd.read_csv('music.csv')\n",
    "\n",
    "# Guarda en 'X' todo excepto la columna 'genre'\n",
    "# 'X' es el 'input set'\n",
    "X = music_data.drop(columns=['genre'])\n",
    "\n",
    "# Guarda en 'y' la columna 'genre'\n",
    "# 'y' es el 'output set'\n",
    "y = music_data['genre']\n",
    "\n",
    "# Asignamos un 20% de los datos para hacer tests\n",
    "X_train, X_test, y_train, y_test = train_test_split(X, y, test_size=0.2)\n",
    "\n",
    "model = DecisionTreeClassifier()\n",
    "model.fit(X_train, y_train) # entrena el modelo\n",
    "\n",
    "# Pide al modelo una predicción del género musical según los\n",
    "# inputs que pasamos [[21 años, hombre], [22 años, mujer]]\n",
    "predictions = model.predict([[21, 0], [22, 1]])\n",
    "predictions\n",
    "\n",
    "# # Calcula el porcentaje de acierto\n",
    "# score = accuracy_score(y_test, predictions)\n",
    "# score\n",
    "\n",
    "# # Guardamos el modelo entrenado en un fichero externo\n",
    "# # para no entrenar cada vez que se quiera hacer una\n",
    "# # predicción\n",
    "# joblib.dump(model, 'music-recommender.joblib')\n",
    "\n",
    "# # Hacemos predicciones desde fichero externo\n",
    "# model = joblib.load('music-recommender.joblib')\n",
    "# predictions = model.predict([[21, 1]])\n",
    "# predictions\n",
    "\n",
    "# # Visualizando un DecisionTree\n",
    "# model = DecisionTreeClassifier()\n",
    "# model.fit(X, y) # entrena el modelo\n",
    "# tree.export_graphviz(\n",
    "#     model, \n",
    "#     out_file='music-recommender.dot', \n",
    "#     feature_names=['age', 'gender'],\n",
    "#     class_names=sorted(y.unique()),\n",
    "#     label='all',\n",
    "#     rounded=True,\n",
    "#     filled=True)\n"
   ]
  }
 ],
 "metadata": {
  "kernelspec": {
   "display_name": "Python 3 (ipykernel)",
   "language": "python",
   "name": "python3"
  },
  "language_info": {
   "codemirror_mode": {
    "name": "ipython",
    "version": 3
   },
   "file_extension": ".py",
   "mimetype": "text/x-python",
   "name": "python",
   "nbconvert_exporter": "python",
   "pygments_lexer": "ipython3",
   "version": "3.9.12"
  }
 },
 "nbformat": 4,
 "nbformat_minor": 5
}
